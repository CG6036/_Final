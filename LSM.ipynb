{
 "cells": [
  {
   "cell_type": "markdown",
   "metadata": {},
   "source": [
    "### Similarity Measure using LSM score"
   ]
  },
  {
   "cell_type": "code",
   "execution_count": 2,
   "metadata": {},
   "outputs": [],
   "source": [
    "# Import Modules\n",
    "import pandas as pd\n",
    "import numpy as np\n",
    "import sqlite3\n",
    "import pickle\n",
    "import os\n",
    "import matplotlib.pyplot as plt\n",
    "import statsmodels.formula.api as sm\n",
    "# Import Dataset\n",
    "conn = sqlite3.connect('/data1/StackOverflow/stackexchange-to-sqlite/stack.db')\n",
    "query = '''\n",
    "SELECT creation_date, owner_user_id, body\n",
    "FROM answers\n",
    "WHERE creation_date >= '2021-09-01';\n",
    "'''\n",
    "df_tags = pd.read_sql_query(query, conn)\n",
    "conn.close()"
   ]
  },
  {
   "cell_type": "markdown",
   "metadata": {},
   "source": [
    "### 1) Preprocessing"
   ]
  },
  {
   "cell_type": "code",
   "execution_count": 3,
   "metadata": {},
   "outputs": [],
   "source": [
    "# erase NAs\n",
    "df_tags = df_tags.dropna(subset=['owner_user_id'])\n",
    "# Convert types\n",
    "df_tags['owner_user_id'] = df_tags['owner_user_id'].astype(int).astype(str)\n",
    "df_tags['creation_date'] = pd.to_datetime(df_tags['creation_date'])\n",
    "# add year_month variable\n",
    "df_tags['year_month'] = df_tags['creation_date'].dt.to_period('M')\n",
    "\n",
    "# Get the total number of unique months\n",
    "total_months = df_tags['year_month'].nunique()\n",
    "# Count the number of unique months for each user\n",
    "user_month_counts = df_tags.groupby('owner_user_id')['year_month'].nunique()\n",
    "# Filter users who have written posts in every single month\n",
    "users_in_every_month = user_month_counts[user_month_counts == total_months].index.tolist()\n",
    "\n",
    "# Filtered data\n",
    "df_filtered = df_tags[df_tags['owner_user_id'].isin(users_in_every_month)]"
   ]
  },
  {
   "cell_type": "code",
   "execution_count": 4,
   "metadata": {},
   "outputs": [
    {
     "name": "stdout",
     "output_type": "stream",
     "text": [
      "Data has been saved to individual md files in the '/data1/StackOverflow/language-style-matching-python/Final/2021-09' directory.\n",
      "Data has been saved to individual md files in the '/data1/StackOverflow/language-style-matching-python/Final/2021-10' directory.\n",
      "Data has been saved to individual md files in the '/data1/StackOverflow/language-style-matching-python/Final/2021-11' directory.\n",
      "Data has been saved to individual md files in the '/data1/StackOverflow/language-style-matching-python/Final/2021-12' directory.\n",
      "Data has been saved to individual md files in the '/data1/StackOverflow/language-style-matching-python/Final/2022-01' directory.\n",
      "Data has been saved to individual md files in the '/data1/StackOverflow/language-style-matching-python/Final/2022-02' directory.\n",
      "Data has been saved to individual md files in the '/data1/StackOverflow/language-style-matching-python/Final/2022-03' directory.\n",
      "Data has been saved to individual md files in the '/data1/StackOverflow/language-style-matching-python/Final/2022-04' directory.\n",
      "Data has been saved to individual md files in the '/data1/StackOverflow/language-style-matching-python/Final/2022-05' directory.\n",
      "Data has been saved to individual md files in the '/data1/StackOverflow/language-style-matching-python/Final/2022-06' directory.\n",
      "Data has been saved to individual md files in the '/data1/StackOverflow/language-style-matching-python/Final/2022-07' directory.\n",
      "Data has been saved to individual md files in the '/data1/StackOverflow/language-style-matching-python/Final/2022-08' directory.\n",
      "Data has been saved to individual md files in the '/data1/StackOverflow/language-style-matching-python/Final/2022-09' directory.\n",
      "Data has been saved to individual md files in the '/data1/StackOverflow/language-style-matching-python/Final/2022-10' directory.\n",
      "Data has been saved to individual md files in the '/data1/StackOverflow/language-style-matching-python/Final/2022-11' directory.\n",
      "Data has been saved to individual md files in the '/data1/StackOverflow/language-style-matching-python/Final/2022-12' directory.\n",
      "Data has been saved to individual md files in the '/data1/StackOverflow/language-style-matching-python/Final/2023-01' directory.\n",
      "Data has been saved to individual md files in the '/data1/StackOverflow/language-style-matching-python/Final/2023-02' directory.\n",
      "Data has been saved to individual md files in the '/data1/StackOverflow/language-style-matching-python/Final/2023-03' directory.\n",
      "Data has been saved to individual md files in the '/data1/StackOverflow/language-style-matching-python/Final/2023-04' directory.\n",
      "Data has been saved to individual md files in the '/data1/StackOverflow/language-style-matching-python/Final/2023-05' directory.\n",
      "Data has been saved to individual md files in the '/data1/StackOverflow/language-style-matching-python/Final/2023-06' directory.\n",
      "Data has been saved to individual md files in the '/data1/StackOverflow/language-style-matching-python/Final/2023-07' directory.\n",
      "Data has been saved to individual md files in the '/data1/StackOverflow/language-style-matching-python/Final/2023-08' directory.\n",
      "Data has been saved to individual md files in the '/data1/StackOverflow/language-style-matching-python/Final/2023-09' directory.\n"
     ]
    }
   ],
   "source": [
    "# Monthly aggregate for each user\n",
    "df_grouped = df_filtered.groupby(['owner_user_id','year_month'])['body'].agg(lambda x: '\\n'.join(x)).reset_index()\n",
    "year_month = list(df_grouped['year_month'].unique().astype('str')) # get unique year_month\n",
    "# Save individual body data into separate md file.\n",
    "for i in range(len(year_month)):\n",
    "    output_directory = f'/data1/StackOverflow/language-style-matching-python/Final/{year_month[i]}'\n",
    "    os.makedirs(output_directory, exist_ok=True)\n",
    "    data = df_grouped[df_grouped['year_month'] == year_month[i]]\n",
    "    for index, row in data.iterrows():\n",
    "        user_filename = f\"{output_directory}/user_{row['owner_user_id']}.md\"\n",
    "        with open(user_filename, 'w') as md_file:\n",
    "            md_file.write(f\"## User {row['owner_user_id']}\\n\")\n",
    "            md_file.write(row['body'] + '\\n\\n')\n",
    "    print(f\"Data has been saved to individual md files in the '{output_directory}' directory.\")"
   ]
  },
  {
   "cell_type": "markdown",
   "metadata": {},
   "source": [
    "### 2) LSM Score Calculation"
   ]
  },
  {
   "cell_type": "code",
   "execution_count": 23,
   "metadata": {},
   "outputs": [],
   "source": [
    "import itertools\n",
    "import sys\n",
    "# Append the directory containing the LSM module to the Python path\n",
    "sys.path.append('/data1/StackOverflow/language-style-matching-python')\n",
    "from lib import LSM"
   ]
  },
  {
   "cell_type": "code",
   "execution_count": null,
   "metadata": {},
   "outputs": [],
   "source": [
    "# (Bottleneck)\n",
    "# Load files in the folder.\n",
    "for i in range(len(year_month)):\n",
    "\tfor root, dirs, files in os.walk(f'/data1/StackOverflow/language-style-matching-python/Final/{year_month[i]}'): # parameter (change 'Final')\n",
    "\t\tfolks = {}\n",
    "\t\tfor folk in files:\n",
    "\t\t\twith open(os.path.join(root, folk), 'r') as f:\n",
    "\t\t\t\tfolks[folk] = LSM(f.read()) # load via LSM class.\n",
    "\n",
    "\tcombos = itertools.combinations(folks.items(), 2) \n",
    "\tcompares = []\n",
    "\teverybody = sum(folks.values())\n",
    "\tfor obj1, obj2 in [combo for combo in combos]:\n",
    "\t\tcompares.append([obj1[0], #obj2[0], \n",
    "\t\t\t#str(obj1[1].compare(obj2[1])), # compare one-to-one.\n",
    "\t\t\tstr(obj1[1].compare(everybody))]) # compare one-to-avg.\n",
    "\n",
    "\n",
    "\tcol = ['User1', 'Similarity_toAvg']\n",
    "\tdf = pd.DataFrame(compares, columns = col)\n",
    "\tprint(f\"{i} out of {len(year_month)} has been processed\")\n",
    "\n",
    "\t# save via pickle\n",
    "\twith open(f'/data1/StackOverflow/language-style-matching-python/Final_pickle/{year_month[i]}.pickle', 'wb') as fw: # parameter (change 'Final_pickle')\n",
    "\t\tpickle.dump(df, fw)"
   ]
  },
  {
   "cell_type": "code",
   "execution_count": null,
   "metadata": {},
   "outputs": [],
   "source": [
    "folder_path = '/data1/StackOverflow/language-style-matching-python/Final_pickle'\n",
    "\n",
    "# Get a list of all files in the folder\n",
    "file_list = os.listdir(folder_path)\n",
    "file_list = sorted(file_list)\n",
    "\n",
    "# Filter only pickle files\n",
    "pickle_files = [file for file in file_list if file.endswith('.pickle')]\n",
    "\n",
    "# Iterate through each pickle file and load it into a separate object\n",
    "loaded_objects = []\n",
    "for pickle_file in pickle_files:\n",
    "    file_path = os.path.join(folder_path, pickle_file)\n",
    "    file_name = os.path.splitext(pickle_file)[0]\n",
    "    \n",
    "    with open(file_path, 'rb') as f:\n",
    "        loaded_object = pickle.load(f)\n",
    "        selected_indices = list(range(0, len(loaded_object), 308)) # indices of every 167 rows.\n",
    "        loaded_object = loaded_object.iloc[selected_indices]\n",
    "        loaded_object['year_month'] = file_name # add year_month value.\n",
    "        loaded_objects.append(loaded_object)"
   ]
  },
  {
   "cell_type": "code",
   "execution_count": null,
   "metadata": {},
   "outputs": [],
   "source": [
    "loaded_objects[24]"
   ]
  },
  {
   "cell_type": "markdown",
   "metadata": {},
   "source": [
    "### 3) DiD Setting"
   ]
  },
  {
   "cell_type": "code",
   "execution_count": null,
   "metadata": {},
   "outputs": [],
   "source": [
    "# P_t Effect (Treated Vs. Control Group Identification)\n",
    "for i in range(len(loaded_objects)):\n",
    "    if i <= 11:\n",
    "        loaded_objects[i]['T_d'] = 0\n",
    "    else:\n",
    "        loaded_objects[i]['T_d'] = 1\n",
    "# T_d Effect (Before Vs. After Treatment)\n",
    "    # 1~4 <- 0 / 5~12 <- 1 / 13~16 <- 0 / 17~ 25 <- 1\n",
    "for j in range(len(loaded_objects)):\n",
    "    if j < 4:\n",
    "        loaded_objects[j]['P_t'] = 0\n",
    "    elif j < 12:\n",
    "        loaded_objects[j]['P_t'] = 1\n",
    "    elif j < 16:\n",
    "        loaded_objects[j]['P_t'] = 0\n",
    "    else:\n",
    "        loaded_objects[j]['P_t'] = 1\n",
    "# Merge Everything\n",
    "result_df = pd.concat(loaded_objects, axis=0).reset_index(drop = True)\n",
    "result_df = result_df.rename(columns = {'User1': 'User'})\n",
    "result_df['User'] = result_df['User'].apply(lambda x: x.replace('.md', ''))\n",
    "result_df = result_df[['User', 'year_month', 'Similarity_toAvg', 'T_d', 'P_t']]\n",
    "\n",
    "# Save via Pickle\n",
    "#with open(' ', 'wb') as fw:\n",
    "#    pickle.dump(result_df, fw)"
   ]
  },
  {
   "cell_type": "markdown",
   "metadata": {},
   "source": [
    "### 4) Model Fitting"
   ]
  },
  {
   "cell_type": "code",
   "execution_count": null,
   "metadata": {},
   "outputs": [],
   "source": [
    "result_lsm = result_df # Due to code integration\n",
    "result_lsm = result_lsm[result_lsm['year_month'] != '2023-09'] # Fixed date range\n",
    "# convert types\n",
    "result_lsm['Similarity_toAvg'] = pd.to_numeric(result_lsm['Similarity_toAvg'])\n",
    "result_lsm['ln_y'] = np.log(result_lsm['Similarity_toAvg'])"
   ]
  },
  {
   "cell_type": "code",
   "execution_count": null,
   "metadata": {},
   "outputs": [],
   "source": [
    "# Model fit\n",
    "sm.ols('ln_y ~ T_d + P_t + T_d * P_t + C(User)', result_lsm).fit(cov_type='HC3').summary()\n",
    "\n",
    "# Save it to csv for Stata usage\n",
    "#result_lsm.to_csv('lsm_did2.csv', index=False)"
   ]
  }
 ],
 "metadata": {
  "kernelspec": {
   "display_name": "ahnlab",
   "language": "python",
   "name": "python3"
  },
  "language_info": {
   "codemirror_mode": {
    "name": "ipython",
    "version": 3
   },
   "file_extension": ".py",
   "mimetype": "text/x-python",
   "name": "python",
   "nbconvert_exporter": "python",
   "pygments_lexer": "ipython3",
   "version": "3.10.4"
  }
 },
 "nbformat": 4,
 "nbformat_minor": 2
}
